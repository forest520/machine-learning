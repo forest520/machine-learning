{
 "cells": [
  {
   "cell_type": "markdown",
   "metadata": {
    "colab_type": "text",
    "id": "kR-4eNdK6lYS"
   },
   "source": [
    "Deep Learning\n",
    "=============\n",
    "\n",
    "Assignment 2\n",
    "------------\n",
    "\n",
    "Previously in `1_notmnist.ipynb`, we created a pickle with formatted datasets for training, development and testing on the [notMNIST dataset](http://yaroslavvb.blogspot.com/2011/09/notmnist-dataset.html).\n",
    "\n",
    "The goal of this assignment is to progressively train deeper and more accurate models using TensorFlow."
   ]
  },
  {
   "cell_type": "code",
   "execution_count": 12,
   "metadata": {
    "cellView": "both",
    "colab": {
     "autoexec": {
      "startup": false,
      "wait_interval": 0
     }
    },
    "colab_type": "code",
    "collapsed": true,
    "id": "JLpLa8Jt7Vu4"
   },
   "outputs": [],
   "source": [
    "# These are all the modules we'll be using later. Make sure you can import them\n",
    "# before proceeding further.\n",
    "from __future__ import print_function\n",
    "import numpy as np\n",
    "import tensorflow as tf\n",
    "from six.moves import cPickle as pickle\n",
    "from six.moves import range"
   ]
  },
  {
   "cell_type": "markdown",
   "metadata": {
    "colab_type": "text",
    "id": "1HrCK6e17WzV"
   },
   "source": [
    "First reload the data we generated in `1_notmnist.ipynb`."
   ]
  },
  {
   "cell_type": "code",
   "execution_count": 13,
   "metadata": {
    "cellView": "both",
    "colab": {
     "autoexec": {
      "startup": false,
      "wait_interval": 0
     },
     "output_extras": [
      {
       "item_id": 1
      }
     ]
    },
    "colab_type": "code",
    "executionInfo": {
     "elapsed": 19456,
     "status": "ok",
     "timestamp": 1449847956073,
     "user": {
      "color": "",
      "displayName": "",
      "isAnonymous": false,
      "isMe": true,
      "permissionId": "",
      "photoUrl": "",
      "sessionId": "0",
      "userId": ""
     },
     "user_tz": 480
    },
    "id": "y3-cj1bpmuxc",
    "outputId": "0ddb1607-1fc4-4ddb-de28-6c7ab7fb0c33"
   },
   "outputs": [
    {
     "name": "stdout",
     "output_type": "stream",
     "text": [
      "Training set (10000, 28, 28) (10000,)\n",
      "Validation set (1000, 28, 28) (1000,)\n",
      "Test set (1000, 28, 28) (1000,)\n"
     ]
    }
   ],
   "source": [
    "pickle_file = 'notMNIST.pickle'\n",
    "\n",
    "with open(pickle_file, 'rb') as f:\n",
    "  save = pickle.load(f)\n",
    "  train_dataset = save['train_dataset']\n",
    "  train_labels = save['train_labels']\n",
    "  valid_dataset = save['valid_dataset']\n",
    "  valid_labels = save['valid_labels']\n",
    "  test_dataset = save['test_dataset']\n",
    "  test_labels = save['test_labels']\n",
    "  del save  # hint to help gc free up memory\n",
    "  print('Training set', train_dataset.shape, train_labels.shape)\n",
    "  print('Validation set', valid_dataset.shape, valid_labels.shape)\n",
    "  print('Test set', test_dataset.shape, test_labels.shape)"
   ]
  },
  {
   "cell_type": "markdown",
   "metadata": {
    "colab_type": "text",
    "id": "L7aHrm6nGDMB"
   },
   "source": [
    "Reformat into a shape that's more adapted to the models we're going to train:\n",
    "- data as a flat matrix,\n",
    "- labels as float 1-hot encodings."
   ]
  },
  {
   "cell_type": "code",
   "execution_count": 14,
   "metadata": {
    "cellView": "both",
    "colab": {
     "autoexec": {
      "startup": false,
      "wait_interval": 0
     },
     "output_extras": [
      {
       "item_id": 1
      }
     ]
    },
    "colab_type": "code",
    "executionInfo": {
     "elapsed": 19723,
     "status": "ok",
     "timestamp": 1449847956364,
     "user": {
      "color": "",
      "displayName": "",
      "isAnonymous": false,
      "isMe": true,
      "permissionId": "",
      "photoUrl": "",
      "sessionId": "0",
      "userId": ""
     },
     "user_tz": 480
    },
    "id": "IRSyYiIIGIzS",
    "outputId": "2ba0fc75-1487-4ace-a562-cf81cae82793"
   },
   "outputs": [
    {
     "name": "stdout",
     "output_type": "stream",
     "text": [
      "Training set (10000, 784) (10000, 10)\n",
      "Validation set (1000, 784) (1000, 10)\n",
      "Test set (1000, 784) (1000, 10)\n"
     ]
    }
   ],
   "source": [
    "#Convertir todo a Arrays 2D\n",
    "image_size = 28\n",
    "num_labels = 10\n",
    "\n",
    "def reformat(dataset, labels):\n",
    "  dataset = dataset.reshape((-1, image_size * image_size)).astype(np.float32)\n",
    "  # Map 0 to [1.0, 0.0, 0.0 ...], 1 to [0.0, 1.0, 0.0 ...]\n",
    "  labels = (np.arange(num_labels) == labels[:,None]).astype(np.float32)\n",
    "  return dataset, labels\n",
    "train_dataset, train_labels = reformat(train_dataset, train_labels)\n",
    "valid_dataset, valid_labels = reformat(valid_dataset, valid_labels)\n",
    "test_dataset, test_labels = reformat(test_dataset, test_labels)\n",
    "print('Training set', train_dataset.shape, train_labels.shape)\n",
    "print('Validation set', valid_dataset.shape, valid_labels.shape)\n",
    "print('Test set', test_dataset.shape, test_labels.shape)"
   ]
  },
  {
   "cell_type": "markdown",
   "metadata": {
    "colab_type": "text",
    "id": "nCLVqyQ5vPPH"
   },
   "source": [
    "We're first going to train a multinomial logistic regression using simple gradient descent.\n",
    "\n",
    "TensorFlow works like this:\n",
    "* First you describe the computation that you want to see performed: what the inputs, the variables, and the operations look like. These get created as nodes over a computation graph. This description is all contained within the block below:\n",
    "\n",
    "      with graph.as_default():\n",
    "          ...\n",
    "\n",
    "* Then you can run the operations on this graph as many times as you want by calling `session.run()`, providing it outputs to fetch from the graph that get returned. This runtime operation is all contained in the block below:\n",
    "\n",
    "      with tf.Session(graph=graph) as session:\n",
    "          ...\n",
    "\n",
    "Let's load all the data into TensorFlow and build the computation graph corresponding to our training:"
   ]
  },
  {
   "cell_type": "code",
   "execution_count": 52,
   "metadata": {
    "cellView": "both",
    "colab": {
     "autoexec": {
      "startup": false,
      "wait_interval": 0
     }
    },
    "colab_type": "code",
    "id": "Nfv39qvtvOl_"
   },
   "outputs": [
    {
     "name": "stdout",
     "output_type": "stream",
     "text": [
      "Train as a TF Constant: Tensor(\"Const:0\", shape=(10000, 784), dtype=float32)\n",
      "Train labels as a TF Constant: Tensor(\"Const_1:0\", shape=(10000, 10), dtype=float32) \n",
      "\n",
      "Truncated Normal Distribution:  Tensor(\"truncated_normal:0\", shape=(784, 10), dtype=float32)\n",
      "Weights:  Tensor(\"Variable/read:0\", shape=(784, 10), dtype=float32) \n",
      "\n",
      "Zeros:  Tensor(\"zeros:0\", shape=(10,), dtype=float32)\n",
      "Biases:  Tensor(\"Variable_1/read:0\", shape=(10,), dtype=float32) \n",
      "\n",
      "Logits:  Tensor(\"add:0\", shape=(10000, 10), dtype=float32) \n",
      "\n",
      "softMaxCrossEntropy:  Tensor(\"Reshape_2:0\", shape=(10000,), dtype=float32)\n",
      "Loss:  Tensor(\"Mean:0\", shape=(), dtype=float32)\n",
      "GDOptimizer:  <tensorflow.python.training.gradient_descent.GradientDescentOptimizer object at 0x000001936E289A58>\n",
      "Optimizer:  GradientDescent \n",
      "\n",
      "Train prediction:  Tensor(\"Softmax:0\", shape=(10000, 10), dtype=float32)\n",
      "Valid prediction:  Tensor(\"Softmax_1:0\", shape=(1000, 10), dtype=float32)\n",
      "Test prediction:  Tensor(\"Softmax_2:0\", shape=(1000, 10), dtype=float32)\n"
     ]
    }
   ],
   "source": [
    "###AQUÍ SE PREPARA LA NEURAL NETWORK###\n",
    "\n",
    "'''\n",
    "First you describe the computation that you want to see performed: what the inputs, the variables, \n",
    "and the operations look like. These get created as nodes over a computation graph.\n",
    "'''\n",
    "\n",
    "'''\n",
    "tf.Graph: A TensorFlow computation, represented as a dataflow graph. <-- Aqui comienza todo\n",
    "graph.as_default: Returns a context manager that makes this `Graph` the default graph.\n",
    "'''\n",
    "graph = tf.Graph()\n",
    "with graph.as_default():\n",
    "\n",
    "    ### Input data ###\n",
    "    # Load the training, validation and test data into constants that are attached to the graph.\n",
    "    tf_train_dataset = tf.constant(train_dataset)\n",
    "    tf_train_labels = tf.constant(train_labels)\n",
    "    print('Train as a TF Constant:',tf_train_dataset)\n",
    "    print('Train labels as a TF Constant:',tf_train_labels,'\\n')\n",
    "\n",
    "    tf_valid_dataset = tf.constant(valid_dataset)\n",
    "    tf_test_dataset = tf.constant(test_dataset)\n",
    "\n",
    "    ### Variables ###\n",
    "    # These are the parameters that we are going to be training. \n",
    "    # The weight matrix will be initialized using random values following a (truncated) normal distribution.\n",
    "    # The biases get initialized to zero.\n",
    "    \n",
    "    normalDist = tf.truncated_normal(shape=[image_size * image_size, num_labels])#Outputs random values from a truncated normal distribution.\n",
    "    print('Truncated Normal Distribution: ',normalDist)\n",
    "    weights = tf.Variable(normalDist)\n",
    "    print('Weights: ',weights,'\\n')\n",
    "    \n",
    "    zeros = tf.zeros([num_labels])\n",
    "    print('Zeros: ',zeros)\n",
    "    biases = tf.Variable(zeros)\n",
    "    print('Biases: ',biases,'\\n')\n",
    "\n",
    "    \n",
    "    ### Training computation ###\n",
    "    # We multiply the inputs with the weight matrix, and add biases. \n",
    "    # We compute the softmax and cross-entropy (it's one operation in TensorFlow, because it's very common, and it can be optimized).\n",
    "    # We take the average of this cross-entropy across all training examples --> that's our loss.\n",
    "    '''\n",
    "    tf.matmul: Multiplies matrix `a` by matrix `b`, producing `a` * `b`.\n",
    "    '''\n",
    "    \n",
    "    logits = tf.matmul(tf_train_dataset, weights) + biases #Multiplicar input con matriz de pesos y sumamos bias\n",
    "    print('Logits: ',logits,'\\n')\n",
    "    \n",
    "    '''\n",
    "    tf.nn.softmax_cross_entropy_with_logits: Computes softmax cross entropy between `logits` and `labels`.\n",
    "    tf.reduce_mean: Computes the mean of elements across dimensions of a tensor.\n",
    "    '''\n",
    "    \n",
    " \n",
    "    softMaxCrossEntropy = tf.nn.softmax_cross_entropy_with_logits(labels=tf_train_labels, logits=logits)\n",
    "    print('softMaxCrossEntropy: ',softMaxCrossEntropy)\n",
    "    loss = tf.reduce_mean(softMaxCrossEntropy)\n",
    "    print('Loss: ',loss)\n",
    "\n",
    "    ### Optimizer ###\n",
    "    # We are going to find the minimum of this loss using gradient descent.\n",
    "    '''\n",
    "    tf.train.GradientDescentOptimizder: Optimizer that implements the gradient descent algorithm.\n",
    "    GradientDescentOptimizder.minimize: Add operations to minimize `loss` by updating `var_list`.\n",
    "    '''\n",
    "    GDOptimizer = tf.train.GradientDescentOptimizer(0.5)\n",
    "    print('GDOptimizer: ',GDOptimizer)\n",
    "    optimizer = GDOptimizer.minimize(loss)\n",
    "    print('Optimizer: ',optimizer.name,'\\n')\n",
    "    \n",
    "    ### Predictions for the training, validation, and test data ###\n",
    "    # These are not part of training, but merely here so that we can report accuracy figures as we train.\n",
    "    train_prediction = tf.nn.softmax(logits)\n",
    "    valid_prediction = tf.nn.softmax(tf.matmul(tf_valid_dataset, weights) + biases)\n",
    "    test_prediction = tf.nn.softmax(tf.matmul(tf_test_dataset, weights) + biases)\n",
    "    \n",
    "    print('Train prediction: ',train_prediction)\n",
    "    print('Valid prediction: ',valid_prediction)\n",
    "    print('Test prediction: ',test_prediction)"
   ]
  },
  {
   "cell_type": "markdown",
   "metadata": {
    "colab_type": "text",
    "id": "KQcL4uqISHjP"
   },
   "source": [
    "Let's run this computation and iterate:"
   ]
  },
  {
   "cell_type": "code",
   "execution_count": 53,
   "metadata": {
    "cellView": "both",
    "colab": {
     "autoexec": {
      "startup": false,
      "wait_interval": 0
     },
     "output_extras": [
      {
       "item_id": 9
      }
     ]
    },
    "colab_type": "code",
    "executionInfo": {
     "elapsed": 57454,
     "status": "ok",
     "timestamp": 1449847994134,
     "user": {
      "color": "",
      "displayName": "",
      "isAnonymous": false,
      "isMe": true,
      "permissionId": "",
      "photoUrl": "",
      "sessionId": "0",
      "userId": ""
     },
     "user_tz": 480
    },
    "id": "z2cjdenH869W",
    "outputId": "4c037ba1-b526-4d8e-e632-91e2a0333267"
   },
   "outputs": [
    {
     "name": "stdout",
     "output_type": "stream",
     "text": [
      "Initialized\n",
      "Loss at step  0 : 14.9884\n",
      "Training accuracy:  16.46\n",
      "Validation accuracy:  19.4\n",
      "Validation accuracy:  21.4\n",
      "Loss at step  100 : 2.37722\n",
      "Training accuracy:  72.37\n",
      "Validation accuracy:  73.0\n",
      "Validation accuracy:  78.5\n",
      "Loss at step  200 : 1.93734\n",
      "Training accuracy:  74.99\n",
      "Validation accuracy:  75.5\n",
      "Validation accuracy:  81.1\n",
      "Loss at step  300 : 1.69569\n",
      "Training accuracy:  75.98\n",
      "Validation accuracy:  76.2\n",
      "Validation accuracy:  81.4\n",
      "Loss at step  400 : 1.52879\n",
      "Training accuracy:  76.59\n",
      "Validation accuracy:  76.0\n",
      "Validation accuracy:  81.7\n",
      "Loss at step  500 : 1.4024\n",
      "Training accuracy:  76.96\n",
      "Validation accuracy:  76.5\n",
      "Validation accuracy:  81.9\n",
      "Loss at step  600 : 1.30152\n",
      "Training accuracy:  77.49\n",
      "Validation accuracy:  76.8\n",
      "Validation accuracy:  82.4\n",
      "Loss at step  700 : 1.2183\n",
      "Training accuracy:  77.99\n",
      "Validation accuracy:  76.5\n",
      "Validation accuracy:  82.6\n",
      "Loss at step  800 : 1.14816\n",
      "Training accuracy:  78.37\n",
      "Validation accuracy:  76.7\n",
      "Validation accuracy:  82.4\n"
     ]
    }
   ],
   "source": [
    "###AQUÍ SE ENTRENA Y EVALÚA LA NEURAL NETWORK###\n",
    "num_steps = 801\n",
    "\n",
    "#Calcula la accuracy\n",
    "def accuracy(predictions, labels):\n",
    "  return (100.0 * np.sum(np.argmax(predictions, 1) == np.argmax(labels, 1))\n",
    "          / predictions.shape[0])\n",
    "\n",
    "'''\n",
    "Then you can run the operations on this graph as many times as you want by calling session.run(), \n",
    "providing it outputs to fetch from the graph that get returned. \n",
    "This runtime operation is all contained in the block below:\n",
    "'''\n",
    "\n",
    "'''\n",
    "tf.Session: A class for running TensorFlow operations.\n",
    "'''\n",
    "with tf.Session(graph=graph) as session:\n",
    "    # This is a one-time operation which ensures the parameters get initialized as we described in the graph\n",
    "    tf.global_variables_initializer().run()\n",
    "    '''Si no se ejecuta --> FailedPreconditionError (see above for traceback): Attempting to use uninitialized value'''\n",
    "    print('Initialized')\n",
    "    \n",
    "    # Run the computations.\n",
    "    for step in range(num_steps):\n",
    "        '''\n",
    "        session.run: Runs operations and evaluates tensors in `fetches`.\n",
    "        returns:  Either a single value if `fetches` is a single graph element, or\n",
    "                  a list of values if `fetches` is a list, or a dictionary with the\n",
    "                  same keys as `fetches` if that is a dictionary (described above).\n",
    "        '''\n",
    "        # We tell .run() that we want to run the optimizer, and get the loss value and the training predictions\n",
    "        \n",
    "        #Nuestro 'fetches' es una lista con [ElOptimizer, El Loss, Las predicciones] y lo mismo nos retornará\n",
    "        dummyOpt, returnedLoss, returnedPred = session.run(fetches=[optimizer, loss, train_prediction])\n",
    "        \n",
    "        if (step % 100 == 0):\n",
    "            print('Loss at step ',step,':',returnedLoss)\n",
    "            \n",
    "            acc = accuracy(returnedPred,train_labels)\n",
    "            print('Training accuracy: ',acc)\n",
    "            \n",
    "            '''\n",
    "            prediction.eval: Evaluates this tensor in a `Session`. Calling this method will execute all preceding operations \n",
    "                             that produce the inputs needed for the operation that produces this tensor.\n",
    "            '''\n",
    "            # Calling .eval() on valid_prediction is basically like calling run(), but just to get that one returned value.\n",
    "            # Note that it recomputes all its graph dependencies.\n",
    "            #VALID#\n",
    "            validPred = valid_prediction.eval()\n",
    "            validAcc = accuracy(validPred,valid_labels)\n",
    "            print('Validation accuracy: ',validAcc)\n",
    "            #TEST#\n",
    "            testPred = test_prediction.eval()\n",
    "            testAcc = accuracy(testPred,test_labels)\n",
    "            print('Validation accuracy: ',testAcc)\n",
    "            "
   ]
  },
  {
   "cell_type": "markdown",
   "metadata": {
    "colab_type": "text",
    "id": "x68f-hxRGm3H"
   },
   "source": [
    "Let's now switch to stochastic gradient descent training instead, which is much faster.\n",
    "\n",
    "The graph will be similar, except that instead of holding all the training data into a constant node, we create a `Placeholder` node which will be fed actual data at every call of `session.run()`."
   ]
  },
  {
   "cell_type": "code",
   "execution_count": 68,
   "metadata": {
    "cellView": "both",
    "colab": {
     "autoexec": {
      "startup": false,
      "wait_interval": 0
     }
    },
    "colab_type": "code",
    "id": "qhPMzWYRGrzM"
   },
   "outputs": [
    {
     "name": "stdout",
     "output_type": "stream",
     "text": [
      "Estructura de la Red Neuronal creada.\n",
      "La estructura es igual salvo que los datos están almacenados en PlaceHoldersen vez de en Constants, para poder ser fragmentados en MiniBatches\n"
     ]
    }
   ],
   "source": [
    "###AQUÍ SE PREPARA LA NEURAL NETWORK PERO PARA STOCHASTIC GD###\n",
    "\n",
    "batch_size = 128\n",
    "\n",
    "graph = tf.Graph()\n",
    "with graph.as_default():\n",
    "\n",
    "    ###DATA###\n",
    "    # Input data. For the training data, we use a placeholder that will be fed at run time with a training minibatch.\n",
    "    '''\n",
    "    En este caso, en vez de usar un 'Constant', es decir, el set de datos completo, usamos un 'Placeholder', que pilla el \n",
    "    set de datos completo pero está preparado para luego entregárselo al Graph en 'trocitos' o 'minibatches' del batch_size indicado\n",
    "    '''\n",
    "    tf_train_dataset = tf.placeholder(tf.float32,shape=(batch_size, image_size * image_size))\n",
    "    tf_train_labels = tf.placeholder(tf.float32, shape=(batch_size, num_labels))\n",
    "    tf_valid_dataset = tf.constant(valid_dataset)\n",
    "    tf_test_dataset = tf.constant(test_dataset)\n",
    "\n",
    "    ### Variables ### - Igual que antes\n",
    "    weights = tf.Variable(tf.truncated_normal([image_size * image_size, num_labels]))\n",
    "    biases = tf.Variable(tf.zeros([num_labels]))\n",
    "\n",
    "    ### Training computation ### - Igual que antes\n",
    "    logits = tf.matmul(tf_train_dataset, weights) + biases\n",
    "    loss = tf.reduce_mean(tf.nn.softmax_cross_entropy_with_logits(labels=tf_train_labels, logits=logits))\n",
    "\n",
    "    ### Optimizer ### - Igual que antes\n",
    "    optimizer = tf.train.GradientDescentOptimizer(0.5).minimize(loss)\n",
    "\n",
    "    ### Predictions for the training, validation, and test data ### - Igual que antes\n",
    "    train_prediction = tf.nn.softmax(logits)\n",
    "    valid_prediction = tf.nn.softmax(tf.matmul(tf_valid_dataset, weights) + biases)\n",
    "    test_prediction = tf.nn.softmax(tf.matmul(tf_test_dataset, weights) + biases)\n",
    "    \n",
    "print('Estructura de la Red Neuronal creada.\\nLa estructura es igual salvo que los datos están almacenados en PlaceHolders'\n",
    "      +'en vez de en Constants, para poder ser fragmentados en MiniBatches')"
   ]
  },
  {
   "cell_type": "markdown",
   "metadata": {
    "colab_type": "text",
    "id": "XmVZESmtG4JH"
   },
   "source": [
    "Let's run it:"
   ]
  },
  {
   "cell_type": "code",
   "execution_count": 74,
   "metadata": {
    "cellView": "both",
    "colab": {
     "autoexec": {
      "startup": false,
      "wait_interval": 0
     },
     "output_extras": [
      {
       "item_id": 6
      }
     ]
    },
    "colab_type": "code",
    "executionInfo": {
     "elapsed": 66292,
     "status": "ok",
     "timestamp": 1449848003013,
     "user": {
      "color": "",
      "displayName": "",
      "isAnonymous": false,
      "isMe": true,
      "permissionId": "",
      "photoUrl": "",
      "sessionId": "0",
      "userId": ""
     },
     "user_tz": 480
    },
    "id": "FoF91pknG_YW",
    "outputId": "d255c80e-954d-4183-ca1c-c7333ce91d0a",
    "scrolled": false
   },
   "outputs": [
    {
     "name": "stdout",
     "output_type": "stream",
     "text": [
      "Initialized\n",
      "Fragmento/MiniBatch loss at step  0 :  16.3362\n",
      "Fragmento/MiniBatch accuracy:  12.5\n",
      "Validation accuracy:  13.6\n",
      "Test accuracy:  14.9\n",
      "Fragmento/MiniBatch loss at step  500 :  1.35914\n",
      "Fragmento/MiniBatch accuracy:  75.0\n",
      "Validation accuracy:  76.9\n",
      "Test accuracy:  81.4\n",
      "Fragmento/MiniBatch loss at step  1000 :  1.0519\n",
      "Fragmento/MiniBatch accuracy:  75.0\n",
      "Validation accuracy:  76.5\n",
      "Test accuracy:  82.1\n",
      "Fragmento/MiniBatch loss at step  1500 :  0.903583\n",
      "Fragmento/MiniBatch accuracy:  79.6875\n",
      "Validation accuracy:  76.9\n",
      "Test accuracy:  82.7\n",
      "Fragmento/MiniBatch loss at step  2000 :  0.577678\n",
      "Fragmento/MiniBatch accuracy:  82.03125\n",
      "Validation accuracy:  76.8\n",
      "Test accuracy:  84.5\n",
      "Fragmento/MiniBatch loss at step  2500 :  0.89757\n",
      "Fragmento/MiniBatch accuracy:  85.9375\n",
      "Validation accuracy:  77.7\n",
      "Test accuracy:  84.1\n",
      "Fragmento/MiniBatch loss at step  3000 :  0.444482\n",
      "Fragmento/MiniBatch accuracy:  86.71875\n",
      "Validation accuracy:  77.5\n",
      "Test accuracy:  84.7\n"
     ]
    }
   ],
   "source": [
    "###AQUÍ SE ENTRENA Y EVALÚA LA NEURAL NETWORK PERO CON STOCHASTIC GD###\n",
    "\n",
    "#Al usar Stochastic podemos aumentar mucho el nº de epochs sin sufrir en rendimiento\n",
    "num_steps = 3001\n",
    "\n",
    "with tf.Session(graph=graph) as session:\n",
    "    #Inicializar la estructura que hemos definido anteriormente - Igual que en el anterior\n",
    "    tf.global_variables_initializer().run()\n",
    "    print(\"Initialized\")\n",
    "    \n",
    "    for step in range(num_steps):\n",
    "        #Pick an offset within the training data, which has been randomized. Note:We could use better randomization across epochs.\n",
    "        #Lo curioso de este método es que son aleatorios pero van incrementando hasta llegar al tamaño del set y vuelve a empezar\n",
    "        batchStartIndex = (step * batch_size) % (train_labels.shape[0] - batch_size) #Por cada paso pillamos batches aleatorios\n",
    "        batchEndIndex = batchStartIndex + batch_size\n",
    "        \n",
    "        # Generate a minibatch.\n",
    "        batch_data = train_dataset[batchStartIndex:batchEndIndex, :] #[Comienzo : final] --> [batchStartIndex : batchStartIndex + tamañoBatch]\n",
    "        batch_labels = train_labels[batchStartIndex:batchEndIndex, :]\n",
    "        \n",
    "        # Prepare a dictionary telling the session where to feed the minibatch.\n",
    "        '''\n",
    "        KEY: of the dictionary is the placeholder node of the graph to be fed,\n",
    "        VALUE: is the numpy array to feed to it.\n",
    "        '''\n",
    "        feed_dict = {tf_train_dataset : batch_data, tf_train_labels : batch_labels}\n",
    "        \n",
    "        #Igual que en el GD normal pero\n",
    "        #Hay que usar el parámetro 'feed_dict' e indicarle el dict que hemos creado para decirle a la sesión cómo encontrar los datos\n",
    "        dummyOpt, returnedLoss, returnedPred = session.run([optimizer, loss, train_prediction], feed_dict=feed_dict)\n",
    "        \n",
    "        if (step % 500 == 0):\n",
    "            \n",
    "            print('Fragmento/MiniBatch loss at step ',step,': ',returnedLoss)\n",
    "            \n",
    "            acc = accuracy(returnedPred,batch_labels)\n",
    "            print('Fragmento/MiniBatch accuracy: ',acc)\n",
    "            \n",
    "            validPred = valid_prediction.eval()\n",
    "            validAcc = accuracy(validPred,valid_labels)\n",
    "            print('Validation accuracy: ',validAcc)\n",
    "            \n",
    "            testPred = test_prediction.eval()\n",
    "            testAcc = accuracy(testPred,test_labels)\n",
    "            print('Test accuracy: ',testAcc)\n",
    "            "
   ]
  },
  {
   "cell_type": "markdown",
   "metadata": {
    "colab_type": "text",
    "id": "7omWxtvLLxik"
   },
   "source": [
    "---\n",
    "Problem\n",
    "-------\n",
    "\n",
    "Turn the logistic regression example with SGD into a 1-hidden layer neural network with rectified linear units [nn.relu()](https://www.tensorflow.org/versions/r0.7/api_docs/python/nn.html#relu) and 1024 hidden nodes. This model should improve your validation / test accuracy.\n",
    "\n",
    "---"
   ]
  },
  {
   "cell_type": "code",
   "execution_count": 86,
   "metadata": {},
   "outputs": [
    {
     "name": "stdout",
     "output_type": "stream",
     "text": [
      "Estructura de la Red Neuronal creada.\n"
     ]
    }
   ],
   "source": [
    "###AQUÍ SE PREPARA LA NEURAL NETWORK CON SGD PERO CON RELU###\n",
    "\n",
    "batch_size = 128\n",
    "\n",
    "graph = tf.Graph()\n",
    "with graph.as_default():\n",
    "\n",
    "    ###DATA###\n",
    "    # Input data. For the training data, we use a placeholder that will be fed at run time with a training minibatch.\n",
    "    '''\n",
    "    En este caso, en vez de usar un 'Constant', es decir, el set de datos completo, usamos un 'Placeholder', que pilla el \n",
    "    set de datos completo pero está preparado para luego entregárselo al Graph en 'trocitos' o 'minibatches' del batch_size indicado\n",
    "    '''\n",
    "    tf_train_dataset = tf.placeholder(tf.float32,shape=(batch_size, image_size * image_size))\n",
    "    tf_train_labels = tf.placeholder(tf.float32, shape=(batch_size, num_labels))\n",
    "    tf_valid_dataset = tf.constant(valid_dataset)\n",
    "    tf_test_dataset = tf.constant(test_dataset)\n",
    "\n",
    "    ### Variables & Layers ###\n",
    "    '''Sinapsis Input a Hidden'''\n",
    "    weights1 = tf.Variable(tf.truncated_normal([image_size * image_size, 1024]))\n",
    "    biases1 = tf.Variable(tf.zeros([1024]))\n",
    "    '''Sinapsis Hidden a Output'''\n",
    "    weights2 = tf.Variable(tf.truncated_normal([1024, num_labels]))\n",
    "    biases2 = tf.Variable(tf.zeros([num_labels]))\n",
    "\n",
    "    '''Hidden Layer'''\n",
    "    hidden1 = tf.nn.relu(tf.matmul(tf_train_dataset, weights1) + biases1)\n",
    "    \n",
    "    ### Training computation ###\n",
    "    logits = tf.matmul(hidden1, weights2) + biases2 #Logits: La última capa y los útlimos weights y bias\n",
    "    loss = tf.reduce_mean(tf.nn.softmax_cross_entropy_with_logits(labels=tf_train_labels, logits=logits)) #Igual\n",
    "\n",
    "    \n",
    "    ### Optimizer ### - Igual que antes\n",
    "    optimizer = tf.train.GradientDescentOptimizer(0.5).minimize(loss)\n",
    "\n",
    "    ### Predictions for the training, validation, and test data ###\n",
    "    train_prediction = tf.nn.softmax(logits) #Igual\n",
    "    \n",
    "    #VALID# \n",
    "    inputToHiddenMultVal = tf.matmul(tf_valid_dataset, weights1) + biases1 #Multiplicamos input x weights y sumamos bias\n",
    "    hiddenToOutputReLUVal = tf.nn.relu(inputToHiddenMultVal + biases1) #Añadimos ReLU y sumamos bias\n",
    "    completeMultVal = tf.matmul(hiddenToOutputReLUVal,weights2) + biases2 #Multiplicamos Hidden x weights2 y sumamos bias2\n",
    "    valid_prediction = tf.nn.softmax(completeMultVal)\n",
    "    \n",
    "    #TEST# \n",
    "    inputToHiddenMultTest = tf.matmul(tf_test_dataset, weights1) + biases1 #Multiplicamos input x weights y sumamos bias\n",
    "    hiddenToOutputReLUTest = tf.nn.relu(inputToHiddenMultTest + biases1) #Añadimos ReLU y sumamos bias\n",
    "    completeMultTest = tf.matmul(hiddenToOutputReLUTest,weights2) + biases2 #Multiplicamos Hidden x weights2 y sumamos bias2\n",
    "    test_prediction = tf.nn.softmax(completeMultTest)\n",
    "    \n",
    "    \n",
    "print('Estructura de la Red Neuronal creada.')"
   ]
  },
  {
   "cell_type": "code",
   "execution_count": 87,
   "metadata": {},
   "outputs": [
    {
     "name": "stdout",
     "output_type": "stream",
     "text": [
      "Initialized\n",
      "Fragmento/MiniBatch loss at step  0 :  372.005\n",
      "Fragmento/MiniBatch accuracy:  9.375\n",
      "Validation accuracy:  24.1\n",
      "Test accuracy:  24.9\n",
      "Fragmento/MiniBatch loss at step  500 :  10.3998\n",
      "Fragmento/MiniBatch accuracy:  94.53125\n",
      "Validation accuracy:  80.4\n",
      "Test accuracy:  85.2\n",
      "Fragmento/MiniBatch loss at step  1000 :  1.38454\n",
      "Fragmento/MiniBatch accuracy:  97.65625\n",
      "Validation accuracy:  82.6\n",
      "Test accuracy:  88.2\n",
      "Fragmento/MiniBatch loss at step  1500 :  0.245282\n",
      "Fragmento/MiniBatch accuracy:  98.4375\n",
      "Validation accuracy:  82.6\n",
      "Test accuracy:  88.3\n",
      "Fragmento/MiniBatch loss at step  2000 :  0.0892306\n",
      "Fragmento/MiniBatch accuracy:  99.21875\n",
      "Validation accuracy:  82.6\n",
      "Test accuracy:  88.1\n",
      "Fragmento/MiniBatch loss at step  2500 :  0.0\n",
      "Fragmento/MiniBatch accuracy:  100.0\n",
      "Validation accuracy:  83.1\n",
      "Test accuracy:  88.9\n",
      "Fragmento/MiniBatch loss at step  3000 :  0.858593\n",
      "Fragmento/MiniBatch accuracy:  99.21875\n",
      "Validation accuracy:  83.1\n",
      "Test accuracy:  88.4\n"
     ]
    }
   ],
   "source": [
    "###AQUÍ SE ENTRENA Y EVALÚA LA NEURAL NETWORK CON SGD Y HIDDEN LAYER ###\n",
    "\n",
    "#Al usar Stochastic podemos aumentar mucho el nº de epochs sin sufrir en rendimiento\n",
    "num_steps = 3001\n",
    "\n",
    "with tf.Session(graph=graph) as session:\n",
    "    #Inicializar la estructura que hemos definido anteriormente - Igual que en el anterior\n",
    "    tf.global_variables_initializer().run()\n",
    "    print(\"Initialized\")\n",
    "    \n",
    "    for step in range(num_steps):\n",
    "        #Pick an offset within the training data, which has been randomized. Note:We could use better randomization across epochs.\n",
    "        #Lo curioso de este método es que son aleatorios pero van incrementando hasta llegar al tamaño del set y vuelve a empezar\n",
    "        batchStartIndex = (step * batch_size) % (train_labels.shape[0] - batch_size) #Por cada paso pillamos batches aleatorios\n",
    "        batchEndIndex = batchStartIndex + batch_size\n",
    "        \n",
    "        # Generate a minibatch.\n",
    "        batch_data = train_dataset[batchStartIndex:batchEndIndex, :] #[Comienzo : final] --> [batchStartIndex : batchStartIndex + tamañoBatch]\n",
    "        batch_labels = train_labels[batchStartIndex:batchEndIndex, :]\n",
    "        \n",
    "        # Prepare a dictionary telling the session where to feed the minibatch.\n",
    "        '''\n",
    "        KEY: of the dictionary is the placeholder node of the graph to be fed,\n",
    "        VALUE: is the numpy array to feed to it.\n",
    "        '''\n",
    "        feed_dict = {tf_train_dataset : batch_data, tf_train_labels : batch_labels}\n",
    "        \n",
    "        #Igual que en el GD normal pero\n",
    "        #Hay que usar el parámetro 'feed_dict' e indicarle el dict que hemos creado para decirle a la sesión cómo encontrar los datos\n",
    "        dummyOpt, returnedLoss, returnedPred = session.run([optimizer, loss, train_prediction], feed_dict=feed_dict)\n",
    "        \n",
    "        if (step % 500 == 0):\n",
    "            \n",
    "            print('Fragmento/MiniBatch loss at step ',step,': ',returnedLoss)\n",
    "            \n",
    "            acc = accuracy(returnedPred,batch_labels)\n",
    "            print('Fragmento/MiniBatch accuracy: ',acc)\n",
    "            \n",
    "            validPred = valid_prediction.eval()\n",
    "            validAcc = accuracy(validPred,valid_labels)\n",
    "            print('Validation accuracy: ',validAcc)\n",
    "            \n",
    "            testPred = test_prediction.eval()\n",
    "            testAcc = accuracy(testPred,test_labels)\n",
    "            print('Test accuracy: ',testAcc)\n",
    "            "
   ]
  },
  {
   "cell_type": "code",
   "execution_count": null,
   "metadata": {
    "collapsed": true
   },
   "outputs": [],
   "source": []
  }
 ],
 "metadata": {
  "colab": {
   "default_view": {},
   "name": "2_fullyconnected.ipynb",
   "provenance": [],
   "version": "0.3.2",
   "views": {}
  },
  "kernelspec": {
   "display_name": "Python 3",
   "language": "python",
   "name": "python3"
  },
  "language_info": {
   "codemirror_mode": {
    "name": "ipython",
    "version": 3
   },
   "file_extension": ".py",
   "mimetype": "text/x-python",
   "name": "python",
   "nbconvert_exporter": "python",
   "pygments_lexer": "ipython3",
   "version": "3.5.3"
  }
 },
 "nbformat": 4,
 "nbformat_minor": 1
}
