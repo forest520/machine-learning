{
 "cells": [
  {
   "cell_type": "markdown",
   "metadata": {
    "colab_type": "text",
    "id": "4embtkV0pNxM"
   },
   "source": [
    "Deep Learning\n",
    "=============\n",
    "\n",
    "Assignment 4\n",
    "------------\n",
    "\n",
    "Previously in `2_fullyconnected.ipynb` and `3_regularization.ipynb`, we trained fully connected networks to classify [notMNIST](http://yaroslavvb.blogspot.com/2011/09/notmnist-dataset.html) characters.\n",
    "\n",
    "The goal of this assignment is make the neural network convolutional."
   ]
  },
  {
   "cell_type": "code",
   "execution_count": 1,
   "metadata": {
    "cellView": "both",
    "colab": {
     "autoexec": {
      "startup": false,
      "wait_interval": 0
     }
    },
    "colab_type": "code",
    "collapsed": true,
    "id": "tm2CQN_Cpwj0"
   },
   "outputs": [],
   "source": [
    "# These are all the modules we'll be using later. Make sure you can import them\n",
    "# before proceeding further.\n",
    "from __future__ import print_function\n",
    "import numpy as np\n",
    "import tensorflow as tf\n",
    "from six.moves import cPickle as pickle\n",
    "from six.moves import range"
   ]
  },
  {
   "cell_type": "code",
   "execution_count": 2,
   "metadata": {
    "cellView": "both",
    "colab": {
     "autoexec": {
      "startup": false,
      "wait_interval": 0
     },
     "output_extras": [
      {
       "item_id": 1
      }
     ]
    },
    "colab_type": "code",
    "executionInfo": {
     "elapsed": 11948,
     "status": "ok",
     "timestamp": 1446658914837,
     "user": {
      "color": "",
      "displayName": "",
      "isAnonymous": false,
      "isMe": true,
      "permissionId": "",
      "photoUrl": "",
      "sessionId": "0",
      "userId": ""
     },
     "user_tz": 480
    },
    "id": "y3-cj1bpmuxc",
    "outputId": "016b1a51-0290-4b08-efdb-8c95ffc3cd01"
   },
   "outputs": [
    {
     "name": "stdout",
     "output_type": "stream",
     "text": [
      "Training set (10000, 28, 28) (10000,)\n",
      "Validation set (1000, 28, 28) (1000,)\n",
      "Test set (1000, 28, 28) (1000,)\n"
     ]
    }
   ],
   "source": [
    "pickle_file = 'notMNIST.pickle'\n",
    "\n",
    "with open(pickle_file, 'rb') as f:\n",
    "  save = pickle.load(f)\n",
    "  train_dataset = save['train_dataset']\n",
    "  train_labels = save['train_labels']\n",
    "  valid_dataset = save['valid_dataset']\n",
    "  valid_labels = save['valid_labels']\n",
    "  test_dataset = save['test_dataset']\n",
    "  test_labels = save['test_labels']\n",
    "  del save  # hint to help gc free up memory\n",
    "  print('Training set', train_dataset.shape, train_labels.shape)\n",
    "  print('Validation set', valid_dataset.shape, valid_labels.shape)\n",
    "  print('Test set', test_dataset.shape, test_labels.shape)"
   ]
  },
  {
   "cell_type": "markdown",
   "metadata": {
    "colab_type": "text",
    "id": "L7aHrm6nGDMB"
   },
   "source": [
    "Reformat into a TensorFlow-friendly shape:\n",
    "- convolutions need the image data formatted as a cube (width by height by #channels)\n",
    "- labels as float 1-hot encodings."
   ]
  },
  {
   "cell_type": "code",
   "execution_count": 3,
   "metadata": {
    "cellView": "both",
    "colab": {
     "autoexec": {
      "startup": false,
      "wait_interval": 0
     },
     "output_extras": [
      {
       "item_id": 1
      }
     ]
    },
    "colab_type": "code",
    "executionInfo": {
     "elapsed": 11952,
     "status": "ok",
     "timestamp": 1446658914857,
     "user": {
      "color": "",
      "displayName": "",
      "isAnonymous": false,
      "isMe": true,
      "permissionId": "",
      "photoUrl": "",
      "sessionId": "0",
      "userId": ""
     },
     "user_tz": 480
    },
    "id": "IRSyYiIIGIzS",
    "outputId": "650a208c-8359-4852-f4f5-8bf10e80ef6c"
   },
   "outputs": [
    {
     "name": "stdout",
     "output_type": "stream",
     "text": [
      "Training set (10000, 28, 28, 1) (10000, 10)\n",
      "Validation set (1000, 28, 28, 1) (1000, 10)\n",
      "Test set (1000, 28, 28, 1) (1000, 10)\n"
     ]
    }
   ],
   "source": [
    "image_size = 28\n",
    "num_labels = 10\n",
    "num_channels = 1 # grayscale\n",
    "\n",
    "import numpy as np\n",
    "\n",
    "def reformat(dataset, labels):\n",
    "  dataset = dataset.reshape(\n",
    "    (-1, image_size, image_size, num_channels)).astype(np.float32)\n",
    "  labels = (np.arange(num_labels) == labels[:,None]).astype(np.float32)\n",
    "  return dataset, labels\n",
    "train_dataset, train_labels = reformat(train_dataset, train_labels)\n",
    "valid_dataset, valid_labels = reformat(valid_dataset, valid_labels)\n",
    "test_dataset, test_labels = reformat(test_dataset, test_labels)\n",
    "print('Training set', train_dataset.shape, train_labels.shape)\n",
    "print('Validation set', valid_dataset.shape, valid_labels.shape)\n",
    "print('Test set', test_dataset.shape, test_labels.shape)"
   ]
  },
  {
   "cell_type": "code",
   "execution_count": 4,
   "metadata": {
    "cellView": "both",
    "colab": {
     "autoexec": {
      "startup": false,
      "wait_interval": 0
     }
    },
    "colab_type": "code",
    "collapsed": true,
    "id": "AgQDIREv02p1"
   },
   "outputs": [],
   "source": [
    "def accuracy(predictions, labels):\n",
    "  return (100.0 * np.sum(np.argmax(predictions, 1) == np.argmax(labels, 1))\n",
    "          / predictions.shape[0])"
   ]
  },
  {
   "cell_type": "markdown",
   "metadata": {
    "colab_type": "text",
    "id": "5rhgjmROXu2O"
   },
   "source": [
    "Let's build a small network with two convolutional layers, followed by one fully connected layer. Convolutional networks are more expensive computationally, so we'll limit its depth and number of fully connected nodes."
   ]
  },
  {
   "cell_type": "code",
   "execution_count": 23,
   "metadata": {
    "cellView": "both",
    "colab": {
     "autoexec": {
      "startup": false,
      "wait_interval": 0
     }
    },
    "colab_type": "code",
    "id": "IZYv70SvvOan"
   },
   "outputs": [
    {
     "name": "stdout",
     "output_type": "stream",
     "text": [
      "LAYER1 - Weights:  Tensor(\"Variable/read:0\", shape=(5, 5, 1, 16), dtype=float32)\n",
      "LAYER1 - Bias:  Tensor(\"Variable_1/read:0\", shape=(16,), dtype=float32) \n",
      "\n",
      "LAYER2 - Weights:  Tensor(\"Variable_2/read:0\", shape=(5, 5, 16, 16), dtype=float32)\n",
      "LAYER2 - Bias:  Tensor(\"Variable_3/read:0\", shape=(16,), dtype=float32) \n",
      "\n",
      "LAYER3 - Weights:  Tensor(\"Variable_4/read:0\", shape=(784, 64), dtype=float32)\n",
      "LAYER3 - Bias:  Tensor(\"Variable_5/read:0\", shape=(64,), dtype=float32) \n",
      "\n",
      "LAYER4 - Weights:  Tensor(\"Variable_6/read:0\", shape=(64, 10), dtype=float32)\n",
      "LAYER4 - Bias:  Tensor(\"Variable_7/read:0\", shape=(10,), dtype=float32) \n",
      "\n",
      "Data:  Tensor(\"Placeholder:0\", shape=(16, 28, 28, 1), dtype=float32)\n",
      "Conv1:  Tensor(\"Conv2D:0\", shape=(16, 14, 14, 16), dtype=float32)\n",
      "Hidden1:  Tensor(\"Relu:0\", shape=(16, 14, 14, 16), dtype=float32) \n",
      "\n",
      "Conv2:  Tensor(\"Conv2D_1:0\", shape=(16, 7, 7, 16), dtype=float32)\n",
      "Hidden2:  Tensor(\"Relu_1:0\", shape=(16, 7, 7, 16), dtype=float32) \n",
      "\n",
      "FullyConnected:  Tensor(\"Relu_2:0\", shape=(16, 64), dtype=float32) \n",
      "\n",
      "Data:  Tensor(\"Const:0\", shape=(1000, 28, 28, 1), dtype=float32)\n",
      "Conv1:  Tensor(\"Conv2D_2:0\", shape=(1000, 14, 14, 16), dtype=float32)\n",
      "Hidden1:  Tensor(\"Relu_3:0\", shape=(1000, 14, 14, 16), dtype=float32) \n",
      "\n",
      "Conv2:  Tensor(\"Conv2D_3:0\", shape=(1000, 7, 7, 16), dtype=float32)\n",
      "Hidden2:  Tensor(\"Relu_4:0\", shape=(1000, 7, 7, 16), dtype=float32) \n",
      "\n",
      "FullyConnected:  Tensor(\"Relu_5:0\", shape=(1000, 64), dtype=float32) \n",
      "\n",
      "Data:  Tensor(\"Const_1:0\", shape=(1000, 28, 28, 1), dtype=float32)\n",
      "Conv1:  Tensor(\"Conv2D_4:0\", shape=(1000, 14, 14, 16), dtype=float32)\n",
      "Hidden1:  Tensor(\"Relu_6:0\", shape=(1000, 14, 14, 16), dtype=float32) \n",
      "\n",
      "Conv2:  Tensor(\"Conv2D_5:0\", shape=(1000, 7, 7, 16), dtype=float32)\n",
      "Hidden2:  Tensor(\"Relu_7:0\", shape=(1000, 7, 7, 16), dtype=float32) \n",
      "\n",
      "FullyConnected:  Tensor(\"Relu_8:0\", shape=(1000, 64), dtype=float32) \n",
      "\n"
     ]
    }
   ],
   "source": [
    "#GENERAR ESTRUCTURA DE CONVOLUTIONAL NEURAL NETWORK#\n",
    "\n",
    "#Variables gloables\n",
    "batch_size = 16\n",
    "patch_size = 5\n",
    "depth = 16\n",
    "num_hidden = 64\n",
    "\n",
    "graph = tf.Graph()\n",
    "\n",
    "with graph.as_default():\n",
    "\n",
    "    ### Input data ### - Igual que en anteriores ocasiones\n",
    "    tf_train_dataset = tf.placeholder(tf.float32, shape=(batch_size, image_size, image_size, num_channels))\n",
    "    tf_train_labels = tf.placeholder(tf.float32, shape=(batch_size, num_labels))\n",
    "    tf_valid_dataset = tf.constant(valid_dataset)\n",
    "    tf_test_dataset = tf.constant(test_dataset)\n",
    "\n",
    "    ### Variables ###\n",
    "    layer1_weights = tf.Variable(tf.truncated_normal([patch_size, patch_size, num_channels, depth], stddev=0.1))\n",
    "    layer1_biases = tf.Variable(tf.zeros([depth]))\n",
    "    print('LAYER1 - Weights: ',layer1_weights)\n",
    "    print('LAYER1 - Bias: ',layer1_biases,'\\n')\n",
    "    \n",
    "    \n",
    "    layer2_weights = tf.Variable(tf.truncated_normal([patch_size, patch_size, depth, depth], stddev=0.1))\n",
    "    layer2_biases = tf.Variable(tf.constant(1.0, shape=[depth]))\n",
    "    print('LAYER2 - Weights: ',layer2_weights)\n",
    "    print('LAYER2 - Bias: ',layer2_biases,'\\n')\n",
    "    \n",
    "    layer3_weights = tf.Variable(tf.truncated_normal([image_size // 4 * image_size // 4 * depth, num_hidden], stddev=0.1))\n",
    "    layer3_biases = tf.Variable(tf.constant(1.0, shape=[num_hidden]))\n",
    "    print('LAYER3 - Weights: ',layer3_weights)\n",
    "    print('LAYER3 - Bias: ',layer3_biases,'\\n')\n",
    "\n",
    "    layer4_weights = tf.Variable(tf.truncated_normal([num_hidden, num_labels], stddev=0.1))\n",
    "    layer4_biases = tf.Variable(tf.constant(1.0, shape=[num_labels]))\n",
    "    print('LAYER4 - Weights: ',layer4_weights)\n",
    "    print('LAYER4 - Bias: ',layer4_biases,'\\n')\n",
    "\n",
    "    # Model.\n",
    "    '''\n",
    "    Let's build a small network with: \n",
    "        ->two convolutional layers\n",
    "        ->one fully connected layer.\n",
    "    '''\n",
    "    def model(data):\n",
    "        #1st Conv Layer\n",
    "        conv = tf.nn.conv2d(input=data, filter=layer1_weights, strides=[1, 2, 2, 1], padding='SAME')\n",
    "        hidden = tf.nn.relu(conv + layer1_biases)\n",
    "        print('Data: ',data)\n",
    "        print('Conv1: ',conv)\n",
    "        print('Hidden1: ',hidden,'\\n')\n",
    "        \n",
    "        #2nd Conv Layer\n",
    "        conv = tf.nn.conv2d(hidden, layer2_weights, [1, 2, 2, 1], padding='SAME')\n",
    "        hidden = tf.nn.relu(conv + layer2_biases)\n",
    "        print('Conv2: ',conv)\n",
    "        print('Hidden2: ',hidden,'\\n')\n",
    "        \n",
    "        \n",
    "        #Fully connected layer\n",
    "        shape = hidden.get_shape().as_list()\n",
    "        reshape = tf.reshape(hidden, [shape[0], shape[1] * shape[2] * shape[3]])\n",
    "        hidden = tf.nn.relu(tf.matmul(reshape, layer3_weights) + layer3_biases)\n",
    "        print('FullyConnected: ',hidden,'\\n')\n",
    "        \n",
    "        return tf.matmul(hidden, layer4_weights) + layer4_biases\n",
    "\n",
    "    # Training computation.\n",
    "    logits = model(tf_train_dataset)\n",
    "    loss = tf.reduce_mean(tf.nn.softmax_cross_entropy_with_logits(labels=tf_train_labels, logits=logits))\n",
    "\n",
    "    # Optimizer.\n",
    "    optimizer = tf.train.GradientDescentOptimizer(0.05).minimize(loss)\n",
    "\n",
    "    # Predictions for the training, validation, and test data.\n",
    "    train_prediction = tf.nn.softmax(logits)\n",
    "    valid_prediction = tf.nn.softmax(model(tf_valid_dataset))\n",
    "    test_prediction = tf.nn.softmax(model(tf_test_dataset))"
   ]
  },
  {
   "cell_type": "code",
   "execution_count": 24,
   "metadata": {
    "cellView": "both",
    "colab": {
     "autoexec": {
      "startup": false,
      "wait_interval": 0
     },
     "output_extras": [
      {
       "item_id": 37
      }
     ]
    },
    "colab_type": "code",
    "executionInfo": {
     "elapsed": 63292,
     "status": "ok",
     "timestamp": 1446658966251,
     "user": {
      "color": "",
      "displayName": "",
      "isAnonymous": false,
      "isMe": true,
      "permissionId": "",
      "photoUrl": "",
      "sessionId": "0",
      "userId": ""
     },
     "user_tz": 480
    },
    "id": "noKFb2UovVFR",
    "outputId": "28941338-2ef9-4088-8bd1-44295661e628"
   },
   "outputs": [
    {
     "name": "stdout",
     "output_type": "stream",
     "text": [
      "Initialized\n",
      "Minibatch loss at step 0: 4.085980\n",
      "Minibatch accuracy: 6.2%\n",
      "Validation accuracy: 10.0%\n",
      "Minibatch loss at step 50: 1.672895\n",
      "Minibatch accuracy: 50.0%\n",
      "Validation accuracy: 59.3%\n",
      "Minibatch loss at step 100: 0.737033\n",
      "Minibatch accuracy: 75.0%\n",
      "Validation accuracy: 76.0%\n",
      "Minibatch loss at step 150: 1.045159\n",
      "Minibatch accuracy: 68.8%\n",
      "Validation accuracy: 77.2%\n",
      "Minibatch loss at step 200: 0.861703\n",
      "Minibatch accuracy: 56.2%\n",
      "Validation accuracy: 79.9%\n",
      "Minibatch loss at step 250: 0.652469\n",
      "Minibatch accuracy: 75.0%\n",
      "Validation accuracy: 79.2%\n",
      "Minibatch loss at step 300: 0.239698\n",
      "Minibatch accuracy: 93.8%\n",
      "Validation accuracy: 77.5%\n",
      "Minibatch loss at step 350: 0.748839\n",
      "Minibatch accuracy: 68.8%\n",
      "Validation accuracy: 80.9%\n",
      "Minibatch loss at step 400: 0.587268\n",
      "Minibatch accuracy: 87.5%\n",
      "Validation accuracy: 81.1%\n",
      "Minibatch loss at step 450: 0.307097\n",
      "Minibatch accuracy: 87.5%\n",
      "Validation accuracy: 81.5%\n",
      "Minibatch loss at step 500: 0.863820\n",
      "Minibatch accuracy: 68.8%\n",
      "Validation accuracy: 82.3%\n",
      "Minibatch loss at step 550: 1.322368\n",
      "Minibatch accuracy: 75.0%\n",
      "Validation accuracy: 83.4%\n",
      "Minibatch loss at step 600: 0.607051\n",
      "Minibatch accuracy: 81.2%\n",
      "Validation accuracy: 82.4%\n",
      "Minibatch loss at step 650: 0.338553\n",
      "Minibatch accuracy: 93.8%\n",
      "Validation accuracy: 82.7%\n",
      "Minibatch loss at step 700: 1.333556\n",
      "Minibatch accuracy: 56.2%\n",
      "Validation accuracy: 83.5%\n",
      "Minibatch loss at step 750: 0.918557\n",
      "Minibatch accuracy: 81.2%\n",
      "Validation accuracy: 83.5%\n",
      "Minibatch loss at step 800: 0.087490\n",
      "Minibatch accuracy: 100.0%\n",
      "Validation accuracy: 83.7%\n",
      "Minibatch loss at step 850: 0.297673\n",
      "Minibatch accuracy: 87.5%\n",
      "Validation accuracy: 82.9%\n",
      "Minibatch loss at step 900: 0.741449\n",
      "Minibatch accuracy: 75.0%\n",
      "Validation accuracy: 83.8%\n",
      "Minibatch loss at step 950: 0.805932\n",
      "Minibatch accuracy: 75.0%\n",
      "Validation accuracy: 84.1%\n",
      "Minibatch loss at step 1000: 0.755253\n",
      "Minibatch accuracy: 81.2%\n",
      "Validation accuracy: 84.0%\n",
      "Test accuracy: 88.3%\n"
     ]
    }
   ],
   "source": [
    "num_steps = 1001\n",
    "\n",
    "with tf.Session(graph=graph) as session:\n",
    "  tf.global_variables_initializer().run()\n",
    "  print('Initialized')\n",
    "  for step in range(num_steps):\n",
    "    offset = (step * batch_size) % (train_labels.shape[0] - batch_size)\n",
    "    batch_data = train_dataset[offset:(offset + batch_size), :, :, :]\n",
    "    batch_labels = train_labels[offset:(offset + batch_size), :]\n",
    "    feed_dict = {tf_train_dataset : batch_data, tf_train_labels : batch_labels}\n",
    "    _, l, predictions = session.run(\n",
    "      [optimizer, loss, train_prediction], feed_dict=feed_dict)\n",
    "    if (step % 50 == 0):\n",
    "      print('Minibatch loss at step %d: %f' % (step, l))\n",
    "      print('Minibatch accuracy: %.1f%%' % accuracy(predictions, batch_labels))\n",
    "      print('Validation accuracy: %.1f%%' % accuracy(\n",
    "        valid_prediction.eval(), valid_labels))\n",
    "  print('Test accuracy: %.1f%%' % accuracy(test_prediction.eval(), test_labels))"
   ]
  },
  {
   "cell_type": "markdown",
   "metadata": {
    "colab_type": "text",
    "id": "KedKkn4EutIK"
   },
   "source": [
    "---\n",
    "Problem 1\n",
    "---------\n",
    "\n",
    "The convolutional model above uses convolutions with stride 2 to reduce the dimensionality. Replace the strides by a max pooling operation (`nn.max_pool()`) of stride 2 and kernel size 2.\n",
    "\n",
    "---"
   ]
  },
  {
   "cell_type": "code",
   "execution_count": 27,
   "metadata": {},
   "outputs": [
    {
     "name": "stdout",
     "output_type": "stream",
     "text": [
      "LAYER1 - Weights:  Tensor(\"Variable/read:0\", shape=(5, 5, 1, 16), dtype=float32)\n",
      "LAYER1 - Bias:  Tensor(\"Variable_1/read:0\", shape=(16,), dtype=float32) \n",
      "\n",
      "LAYER2 - Weights:  Tensor(\"Variable_2/read:0\", shape=(5, 5, 16, 16), dtype=float32)\n",
      "LAYER2 - Bias:  Tensor(\"Variable_3/read:0\", shape=(16,), dtype=float32) \n",
      "\n",
      "LAYER3 - Weights:  Tensor(\"Variable_4/read:0\", shape=(784, 64), dtype=float32)\n",
      "LAYER3 - Bias:  Tensor(\"Variable_5/read:0\", shape=(64,), dtype=float32) \n",
      "\n",
      "LAYER4 - Weights:  Tensor(\"Variable_6/read:0\", shape=(64, 10), dtype=float32)\n",
      "LAYER4 - Bias:  Tensor(\"Variable_7/read:0\", shape=(10,), dtype=float32) \n",
      "\n",
      "Data:  Tensor(\"Placeholder:0\", shape=(16, 28, 28, 1), dtype=float32)\n",
      "Conv1:  Tensor(\"Conv2D:0\", shape=(16, 28, 28, 16), dtype=float32)\n",
      "Pool1:  Tensor(\"MaxPool:0\", shape=(16, 14, 14, 16), dtype=float32)\n",
      "Hidden1:  Tensor(\"Relu:0\", shape=(16, 28, 28, 16), dtype=float32) \n",
      "\n",
      "Conv2:  Tensor(\"Conv2D_1:0\", shape=(16, 14, 14, 16), dtype=float32)\n",
      "Pool2:  Tensor(\"MaxPool_1:0\", shape=(16, 7, 7, 16), dtype=float32)\n",
      "Hidden2:  Tensor(\"Relu_1:0\", shape=(16, 14, 14, 16), dtype=float32) \n",
      "\n",
      "FullyConnected:  Tensor(\"Relu_2:0\", shape=(16, 64), dtype=float32) \n",
      "\n",
      "Data:  Tensor(\"Const:0\", shape=(1000, 28, 28, 1), dtype=float32)\n",
      "Conv1:  Tensor(\"Conv2D_2:0\", shape=(1000, 28, 28, 16), dtype=float32)\n",
      "Pool1:  Tensor(\"MaxPool_2:0\", shape=(1000, 14, 14, 16), dtype=float32)\n",
      "Hidden1:  Tensor(\"Relu_3:0\", shape=(1000, 28, 28, 16), dtype=float32) \n",
      "\n",
      "Conv2:  Tensor(\"Conv2D_3:0\", shape=(1000, 14, 14, 16), dtype=float32)\n",
      "Pool2:  Tensor(\"MaxPool_3:0\", shape=(1000, 7, 7, 16), dtype=float32)\n",
      "Hidden2:  Tensor(\"Relu_4:0\", shape=(1000, 14, 14, 16), dtype=float32) \n",
      "\n",
      "FullyConnected:  Tensor(\"Relu_5:0\", shape=(1000, 64), dtype=float32) \n",
      "\n",
      "Data:  Tensor(\"Const_1:0\", shape=(1000, 28, 28, 1), dtype=float32)\n",
      "Conv1:  Tensor(\"Conv2D_4:0\", shape=(1000, 28, 28, 16), dtype=float32)\n",
      "Pool1:  Tensor(\"MaxPool_4:0\", shape=(1000, 14, 14, 16), dtype=float32)\n",
      "Hidden1:  Tensor(\"Relu_6:0\", shape=(1000, 28, 28, 16), dtype=float32) \n",
      "\n",
      "Conv2:  Tensor(\"Conv2D_5:0\", shape=(1000, 14, 14, 16), dtype=float32)\n",
      "Pool2:  Tensor(\"MaxPool_5:0\", shape=(1000, 7, 7, 16), dtype=float32)\n",
      "Hidden2:  Tensor(\"Relu_7:0\", shape=(1000, 14, 14, 16), dtype=float32) \n",
      "\n",
      "FullyConnected:  Tensor(\"Relu_8:0\", shape=(1000, 64), dtype=float32) \n",
      "\n"
     ]
    }
   ],
   "source": [
    "#GENERAR ESTRUCTURA DE CONVOLUTIONAL NEURAL NETWORK CON MAX POOLING#\n",
    "\n",
    "#Variables gloables\n",
    "batch_size = 16\n",
    "patch_size = 5\n",
    "depth = 16\n",
    "num_hidden = 64\n",
    "\n",
    "graph = tf.Graph()\n",
    "\n",
    "with graph.as_default():\n",
    "\n",
    "    ### Input data ### - Igual que en anteriores ocasiones\n",
    "    tf_train_dataset = tf.placeholder(tf.float32, shape=(batch_size, image_size, image_size, num_channels))\n",
    "    tf_train_labels = tf.placeholder(tf.float32, shape=(batch_size, num_labels))\n",
    "    tf_valid_dataset = tf.constant(valid_dataset)\n",
    "    tf_test_dataset = tf.constant(test_dataset)\n",
    "\n",
    "    ### Variables ###\n",
    "    layer1_weights = tf.Variable(tf.truncated_normal([patch_size, patch_size, num_channels, depth], stddev=0.1))\n",
    "    layer1_biases = tf.Variable(tf.zeros([depth]))\n",
    "    print('LAYER1 - Weights: ',layer1_weights)\n",
    "    print('LAYER1 - Bias: ',layer1_biases,'\\n')\n",
    "    \n",
    "    \n",
    "    layer2_weights = tf.Variable(tf.truncated_normal([patch_size, patch_size, depth, depth], stddev=0.1))\n",
    "    layer2_biases = tf.Variable(tf.constant(1.0, shape=[depth]))\n",
    "    print('LAYER2 - Weights: ',layer2_weights)\n",
    "    print('LAYER2 - Bias: ',layer2_biases,'\\n')\n",
    "    \n",
    "    layer3_weights = tf.Variable(tf.truncated_normal([image_size // 4 * image_size // 4 * depth, num_hidden], stddev=0.1))\n",
    "    layer3_biases = tf.Variable(tf.constant(1.0, shape=[num_hidden]))\n",
    "    print('LAYER3 - Weights: ',layer3_weights)\n",
    "    print('LAYER3 - Bias: ',layer3_biases,'\\n')\n",
    "\n",
    "    layer4_weights = tf.Variable(tf.truncated_normal([num_hidden, num_labels], stddev=0.1))\n",
    "    layer4_biases = tf.Variable(tf.constant(1.0, shape=[num_labels]))\n",
    "    print('LAYER4 - Weights: ',layer4_weights)\n",
    "    print('LAYER4 - Bias: ',layer4_biases,'\\n')\n",
    "\n",
    "    # Model.\n",
    "    '''\n",
    "    Let's build a small network with: \n",
    "        ->two convolutional layers\n",
    "        ->one fully connected layer.\n",
    "    '''\n",
    "    def model(data):\n",
    "        #1st Conv Layer\n",
    "        conv1 = tf.nn.conv2d(input=data, filter=layer1_weights, strides=[1, 1, 1, 1], padding='SAME')\n",
    "        hidden1 = tf.nn.relu(conv1 + layer1_biases)\n",
    "        pool1 = tf.nn.max_pool(hidden1, [1, 2, 2, 1], [1, 2, 2, 1], padding='SAME')\n",
    "        print('Data: ',data)\n",
    "        print('Conv1: ',conv1)\n",
    "        print('Pool1: ',pool1)\n",
    "        print('Hidden1: ',hidden1,'\\n')\n",
    "        \n",
    "        #2nd Conv Layer\n",
    "        conv2 = tf.nn.conv2d(pool1, layer2_weights, [1, 1, 1, 1], padding='SAME')\n",
    "        hidden2 = tf.nn.relu(conv2 + layer2_biases)\n",
    "        pool2 = tf.nn.max_pool(hidden2,[1,2,2,1],[1,2,2,1],padding='SAME')\n",
    "        print('Conv2: ',conv2)\n",
    "        print('Pool2: ',pool2)\n",
    "        print('Hidden2: ',hidden2,'\\n')\n",
    "        \n",
    "        \n",
    "        #Fully connected layer\n",
    "        shape = pool2.get_shape().as_list()\n",
    "        reshape = tf.reshape(pool2, [shape[0], shape[1] * shape[2] * shape[3]])\n",
    "        fullyConnected = tf.nn.relu(tf.matmul(reshape, layer3_weights) + layer3_biases)\n",
    "        print('FullyConnected: ',fullyConnected,'\\n')\n",
    "        \n",
    "        return tf.matmul(fullyConnected, layer4_weights) + layer4_biases\n",
    "\n",
    "    # Training computation.\n",
    "    logits = model(tf_train_dataset)\n",
    "    loss = tf.reduce_mean(tf.nn.softmax_cross_entropy_with_logits(labels=tf_train_labels, logits=logits))\n",
    "\n",
    "    # Optimizer.\n",
    "    optimizer = tf.train.GradientDescentOptimizer(0.05).minimize(loss)\n",
    "\n",
    "    # Predictions for the training, validation, and test data.\n",
    "    train_prediction = tf.nn.softmax(logits)\n",
    "    valid_prediction = tf.nn.softmax(model(tf_valid_dataset))\n",
    "    test_prediction = tf.nn.softmax(model(tf_test_dataset))"
   ]
  },
  {
   "cell_type": "code",
   "execution_count": null,
   "metadata": {},
   "outputs": [],
   "source": [
    "num_steps = 1001\n",
    "\n",
    "with tf.Session(graph=graph) as session:\n",
    "    tf.global_variables_initializer().run()\n",
    "    print('Initialized')\n",
    "    for step in range(num_steps):\n",
    "        offset = (step * batch_size) % (train_labels.shape[0] - batch_size)\n",
    "        batch_data = train_dataset[offset:(offset + batch_size), :, :, :]\n",
    "        batch_labels = train_labels[offset:(offset + batch_size), :]\n",
    "        feed_dict = {tf_train_dataset : batch_data, tf_train_labels : batch_labels}\n",
    "        _, l, predictions = session.run(\n",
    "          [optimizer, loss, train_prediction], feed_dict=feed_dict)\n",
    "        if (step % 50 == 0):\n",
    "            print('Minibatch loss at step %d: %f' % (step, l))\n",
    "            print('Minibatch accuracy: %.1f%%' % accuracy(predictions, batch_labels))\n",
    "            print('Validation accuracy: %.1f%%' % accuracy(\n",
    "            valid_prediction.eval(), valid_labels))\n",
    "        print('Test accuracy: %.1f%%' % accuracy(test_prediction.eval(), test_labels))"
   ]
  },
  {
   "cell_type": "markdown",
   "metadata": {
    "colab_type": "text",
    "id": "klf21gpbAgb-"
   },
   "source": [
    "---\n",
    "Problem 2\n",
    "---------\n",
    "\n",
    "Try to get the best performance you can using a convolutional net. Look for example at the classic [LeNet5](http://yann.lecun.com/exdb/lenet/) architecture, adding Dropout, and/or adding learning rate decay.\n",
    "\n",
    "---"
   ]
  },
  {
   "cell_type": "code",
   "execution_count": 30,
   "metadata": {},
   "outputs": [],
   "source": [
    "batch_size = 16\n",
    "patch_size = 5\n",
    "depth = 16\n",
    "num_hidden = 64\n",
    "\n",
    "graph = tf.Graph()\n",
    "\n",
    "with graph.as_default():\n",
    "\n",
    "    # Input data.\n",
    "    tf_train_dataset = tf.placeholder(\n",
    "    tf.float32, shape=(batch_size, image_size, image_size, num_channels))\n",
    "    tf_train_labels = tf.placeholder(tf.float32, shape=(batch_size, num_labels))\n",
    "    tf_valid_dataset = tf.constant(valid_dataset)\n",
    "    tf_test_dataset = tf.constant(test_dataset)\n",
    "\n",
    "    # Variables.\n",
    "    layer1_weights = tf.Variable(tf.truncated_normal(\n",
    "      [patch_size, patch_size, num_channels, depth], stddev=0.1))\n",
    "    layer1_biases = tf.Variable(tf.zeros([depth]))\n",
    "    layer2_weights = tf.Variable(tf.truncated_normal(\n",
    "      [patch_size, patch_size, depth, depth], stddev=0.1))\n",
    "    layer2_biases = tf.Variable(tf.constant(1.0, shape=[depth]))\n",
    "    size3 = ((image_size - patch_size + 1) // 2 - patch_size + 1) // 2\n",
    "    layer3_weights = tf.Variable(tf.truncated_normal(\n",
    "      [size3 * size3 * depth, num_hidden], stddev=0.1))\n",
    "    layer3_biases = tf.Variable(tf.constant(1.0, shape=[num_hidden]))\n",
    "    layer4_weights = tf.Variable(tf.truncated_normal(\n",
    "      [num_hidden, num_labels], stddev=0.1))\n",
    "    layer4_biases = tf.Variable(tf.constant(1.0, shape=[num_labels]))\n",
    "\n",
    "    # Model.\n",
    "    def model(data):\n",
    "        # C1 input 28 x 28\n",
    "        conv1 = tf.nn.conv2d(data, layer1_weights, [1, 1, 1, 1], padding='VALID')\n",
    "        bias1 = tf.nn.relu(conv1 + layer1_biases)\n",
    "        # S2 input 24 x 24\n",
    "        pool2 = tf.nn.avg_pool(bias1, [1, 2, 2, 1], [1, 2, 2, 1], padding='VALID')\n",
    "        # C3 input 12 x 12\n",
    "        conv3 = tf.nn.conv2d(pool2, layer2_weights, [1, 1, 1, 1], padding='VALID')\n",
    "        bias3 = tf.nn.relu(conv3 + layer2_biases)\n",
    "        # S4 input 8 x 8\n",
    "        pool4 = tf.nn.avg_pool(bias3, [1, 2, 2, 1], [1, 2, 2, 1], padding='VALID')\n",
    "        # F6 input 4 x 4\n",
    "        shape = pool4.get_shape().as_list()\n",
    "        reshape = tf.reshape(pool4, [shape[0], shape[1] * shape[2] * shape[3]])\n",
    "        hidden = tf.nn.relu(tf.matmul(reshape, layer3_weights) + layer3_biases)\n",
    "        return tf.matmul(hidden, layer4_weights) + layer4_biases\n",
    "\n",
    "    # Training computation.\n",
    "    logits = model(tf_train_dataset)\n",
    "    loss = tf.reduce_mean(\n",
    "    tf.nn.softmax_cross_entropy_with_logits(logits=logits, labels=tf_train_labels))\n",
    "\n",
    "    # Optimizer.\n",
    "    optimizer = tf.train.GradientDescentOptimizer(0.05).minimize(loss)\n",
    "\n",
    "    # Predictions for the training, validation, and test data.\n",
    "    train_prediction = tf.nn.softmax(logits)\n",
    "    valid_prediction = tf.nn.softmax(model(tf_valid_dataset))\n",
    "    test_prediction = tf.nn.softmax(model(tf_test_dataset))"
   ]
  },
  {
   "cell_type": "code",
   "execution_count": null,
   "metadata": {},
   "outputs": [],
   "source": [
    "num_steps = 20001\n",
    "\n",
    "with tf.Session(graph=graph) as session:\n",
    "    tf.global_variables_initializer().run()\n",
    "    print('Initialized')\n",
    "    for step in range(num_steps):\n",
    "        offset = (step * batch_size) % (train_labels.shape[0] - batch_size)\n",
    "        batch_data = train_dataset[offset:(offset + batch_size), :, :, :]\n",
    "        batch_labels = train_labels[offset:(offset + batch_size), :]\n",
    "        feed_dict = {tf_train_dataset : batch_data, tf_train_labels : batch_labels}\n",
    "        _, l, predictions = session.run(\n",
    "        [optimizer, loss, train_prediction], feed_dict=feed_dict)\n",
    "        if (step % 50 == 0):\n",
    "            print('Minibatch loss at step %d: %f' % (step, l))\n",
    "            print('Minibatch accuracy: %.1f%%' % accuracy(predictions, batch_labels))\n",
    "            print('Validation accuracy: %.1f%%' % accuracy(\n",
    "            valid_prediction.eval(), valid_labels))\n",
    "print('Test accuracy: %.1f%%' % accuracy(test_prediction.eval(), test_labels))"
   ]
  },
  {
   "cell_type": "code",
   "execution_count": null,
   "metadata": {
    "collapsed": true
   },
   "outputs": [],
   "source": []
  }
 ],
 "metadata": {
  "colab": {
   "default_view": {},
   "name": "4_convolutions.ipynb",
   "provenance": [],
   "version": "0.3.2",
   "views": {}
  },
  "kernelspec": {
   "display_name": "Python 3",
   "language": "python",
   "name": "python3"
  },
  "language_info": {
   "codemirror_mode": {
    "name": "ipython",
    "version": 3
   },
   "file_extension": ".py",
   "mimetype": "text/x-python",
   "name": "python",
   "nbconvert_exporter": "python",
   "pygments_lexer": "ipython3",
   "version": "3.5.3"
  }
 },
 "nbformat": 4,
 "nbformat_minor": 1
}
